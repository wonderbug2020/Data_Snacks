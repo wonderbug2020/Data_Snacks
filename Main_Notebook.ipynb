{
 "cells": [
  {
   "cell_type": "markdown",
   "id": "180e2e0c",
   "metadata": {},
   "source": [
    "# Section 1: Project purpose\n",
    "In this notebook I will look at some data I collected on mott's fruit gummies to see if I can answer some suspicions I had while consuming this snack during the pandemic. \n",
    "\n",
    "### Question 1: How often is there an extra pack in the box. \n",
    "### Question 2: What is the distributrion of number of gummies per pack\n",
    "### Question 3: What is the distribution of each gummy type\n",
    "### Question 4: If 2 packs are choosen, how often is it that I will get at least 2 of every gummy type"
   ]
  },
  {
   "cell_type": "code",
   "execution_count": 1,
   "id": "4d0d55a6",
   "metadata": {},
   "outputs": [],
   "source": [
    "#Import the Libraries\n",
    "import pandas as pd\n",
    "import numpy as np\n",
    "import matplotlib.pyplot as plt\n",
    "import seaborn as sns\n",
    "sns.set_style(\"darkgrid\")"
   ]
  },
  {
   "cell_type": "markdown",
   "id": "ad70bdc4",
   "metadata": {},
   "source": [
    "# Section 2: Data Understanding"
   ]
  },
  {
   "cell_type": "code",
   "execution_count": 2,
   "id": "6193d761",
   "metadata": {},
   "outputs": [
    {
     "data": {
      "text/plain": [
       "(71, 9)"
      ]
     },
     "execution_count": 2,
     "metadata": {},
     "output_type": "execute_result"
    }
   ],
   "source": [
    "#Import the data and look at the shape\n",
    "import_df = pd.read_csv('Data_Retrival/data/gummy_data.csv')\n",
    "import_df.shape"
   ]
  },
  {
   "cell_type": "markdown",
   "id": "d38a8780",
   "metadata": {},
   "source": [
    "# Section 3: Data Preparation and Evaluation"
   ]
  },
  {
   "cell_type": "code",
   "execution_count": 3,
   "id": "3a24efde",
   "metadata": {},
   "outputs": [
    {
     "data": {
      "text/plain": [
       "(55, 9)"
      ]
     },
     "execution_count": 3,
     "metadata": {},
     "output_type": "execute_result"
    }
   ],
   "source": [
    "#This data is saved inb a google sheets page. \n",
    "#The sum category uses a formula to get the value and then is dragged down to be auto filled in later\n",
    "#This is all to sayt that there are rows of data that are not data\n",
    "df = import_df[import_df['sum'] != 0]\n",
    "df.shape"
   ]
  },
  {
   "cell_type": "markdown",
   "id": "8877a085",
   "metadata": {},
   "source": [
    "### Question 1: How often is there an extra pack in the box."
   ]
  },
  {
   "cell_type": "code",
   "execution_count": 4,
   "id": "c59158e7",
   "metadata": {},
   "outputs": [
    {
     "data": {
      "text/plain": [
       "2.0    11\n",
       "4.0    11\n",
       "3.0    10\n",
       "5.0    10\n",
       "6.0    10\n",
       "1.0     3\n",
       "Name: box, dtype: int64"
      ]
     },
     "execution_count": 4,
     "metadata": {},
     "output_type": "execute_result"
    }
   ],
   "source": [
    "#Although I initially added a column to speciifcally track if the box had an extra pack\n",
    "#This is actually easier to represent, for now, with value_counts on the box column\n",
    "df.box.value_counts()"
   ]
  },
  {
   "cell_type": "code",
   "execution_count": null,
   "id": "977bb5e8",
   "metadata": {},
   "outputs": [],
   "source": [
    "#I started this project in the middle of a box. By this point I had been counting packs\n",
    "#I know that in the first box, the 3rd pack was the 11th\n",
    "#This shows that for 6 boxes, 3 of them had an extra pack!\n",
    "#It'll be interesting to see if this continues with a larger sample size"
   ]
  },
  {
   "cell_type": "markdown",
   "id": "7198e90a",
   "metadata": {},
   "source": [
    "### Question 2: What is the distributrion of number of gummies per pack"
   ]
  },
  {
   "cell_type": "code",
   "execution_count": 5,
   "id": "b24889e3",
   "metadata": {},
   "outputs": [
    {
     "data": {
      "text/plain": [
       "8    0.854545\n",
       "9    0.145455\n",
       "Name: sum, dtype: float64"
      ]
     },
     "execution_count": 5,
     "metadata": {},
     "output_type": "execute_result"
    }
   ],
   "source": [
    "#This is another question that can easily be answered with value_counts\n",
    "#I use normalize = true to get a percentage\n",
    "gummies_per_pack = df['sum'].value_counts(normalize=True)\n",
    "gummies_per_pack"
   ]
  },
  {
   "cell_type": "code",
   "execution_count": 6,
   "id": "77547754",
   "metadata": {},
   "outputs": [
    {
     "data": {
      "image/png": "[encoded data removed]",
      "text/plain": [
       "<Figure size 576x576 with 1 Axes>"
      ]
     },
     "metadata": {},
     "output_type": "display_data"
    }
   ],
   "source": [
    "#8 seems to be the standar number of gummies you should recieve\n",
    "#About 15% of the time I got an extra gummy! Thats a little less than 1 every 6 packs\n",
    "#So far I've yet to get a pack with only 7. Knock on wood. \n",
    "plt.figure(figsize=(8,8))\n",
    "sns.barplot(x=gummies_per_pack.index,y=gummies_per_pack.values);\n",
    "plt.xlabel('Number of gummies per pack');\n",
    "plt.ylabel('Percentage of total packs');\n",
    "plt.title('Ratio of packs that have 8 vs 9 gummies');"
   ]
  },
  {
   "cell_type": "markdown",
   "id": "1fff88bd",
   "metadata": {},
   "source": [
    "### Question 3: What is the distribution of each gummy type"
   ]
  },
  {
   "cell_type": "code",
   "execution_count": 7,
   "id": "4562f065",
   "metadata": {},
   "outputs": [
    {
     "data": {
      "text/html": [
       "<div>\n",
       "<style scoped>\n",
       "    .dataframe tbody tr th:only-of-type {\n",
       "        vertical-align: middle;\n",
       "    }\n",
       "\n",
       "    .dataframe tbody tr th {\n",
       "        vertical-align: top;\n",
       "    }\n",
       "\n",
       "    .dataframe thead th {\n",
       "        text-align: right;\n",
       "    }\n",
       "</style>\n",
       "<table border=\"1\" class=\"dataframe\">\n",
       "  <thead>\n",
       "    <tr style=\"text-align: right;\">\n",
       "      <th></th>\n",
       "      <th>pear</th>\n",
       "      <th>carrot</th>\n",
       "      <th>grape</th>\n",
       "      <th>berry</th>\n",
       "      <th>apple</th>\n",
       "    </tr>\n",
       "  </thead>\n",
       "  <tbody>\n",
       "    <tr>\n",
       "      <th>0.0</th>\n",
       "      <td>0.163636</td>\n",
       "      <td>0.145455</td>\n",
       "      <td>0.090909</td>\n",
       "      <td>0.218182</td>\n",
       "      <td>0.236364</td>\n",
       "    </tr>\n",
       "    <tr>\n",
       "      <th>1.0</th>\n",
       "      <td>0.472727</td>\n",
       "      <td>0.200000</td>\n",
       "      <td>0.218182</td>\n",
       "      <td>0.418182</td>\n",
       "      <td>0.454545</td>\n",
       "    </tr>\n",
       "    <tr>\n",
       "      <th>2.0</th>\n",
       "      <td>0.218182</td>\n",
       "      <td>0.309091</td>\n",
       "      <td>0.290909</td>\n",
       "      <td>0.254545</td>\n",
       "      <td>0.145455</td>\n",
       "    </tr>\n",
       "    <tr>\n",
       "      <th>3.0</th>\n",
       "      <td>0.090909</td>\n",
       "      <td>0.272727</td>\n",
       "      <td>0.236364</td>\n",
       "      <td>0.109091</td>\n",
       "      <td>0.127273</td>\n",
       "    </tr>\n",
       "    <tr>\n",
       "      <th>4.0</th>\n",
       "      <td>0.036364</td>\n",
       "      <td>0.072727</td>\n",
       "      <td>0.090909</td>\n",
       "      <td>NaN</td>\n",
       "      <td>0.036364</td>\n",
       "    </tr>\n",
       "    <tr>\n",
       "      <th>5.0</th>\n",
       "      <td>0.018182</td>\n",
       "      <td>NaN</td>\n",
       "      <td>0.036364</td>\n",
       "      <td>NaN</td>\n",
       "      <td>NaN</td>\n",
       "    </tr>\n",
       "    <tr>\n",
       "      <th>6.0</th>\n",
       "      <td>NaN</td>\n",
       "      <td>NaN</td>\n",
       "      <td>0.036364</td>\n",
       "      <td>NaN</td>\n",
       "      <td>NaN</td>\n",
       "    </tr>\n",
       "  </tbody>\n",
       "</table>\n",
       "</div>"
      ],
      "text/plain": [
       "         pear    carrot     grape     berry     apple\n",
       "0.0  0.163636  0.145455  0.090909  0.218182  0.236364\n",
       "1.0  0.472727  0.200000  0.218182  0.418182  0.454545\n",
       "2.0  0.218182  0.309091  0.290909  0.254545  0.145455\n",
       "3.0  0.090909  0.272727  0.236364  0.109091  0.127273\n",
       "4.0  0.036364  0.072727  0.090909       NaN  0.036364\n",
       "5.0  0.018182       NaN  0.036364       NaN       NaN\n",
       "6.0       NaN       NaN  0.036364       NaN       NaN"
      ]
     },
     "execution_count": 7,
     "metadata": {},
     "output_type": "execute_result"
    }
   ],
   "source": [
    "#For me, the berry gummy, I believe it is specifically a strawberry, is my favorite gummy\n",
    "#My least favorite is the carrot. I always felt I got a lot more carrots than berries\n",
    "#Lets see if my casual observation is correct\n",
    "#To do this I'm going to get tthe mean distribution of all the fruit, and normalize it\n",
    "fruit_lst = ['pear','carrot','grape','berry','apple']\n",
    "val_counts = df[fruit_lst].apply(pd.Series.value_counts, normalize=True)\n",
    "val_counts"
   ]
  },
  {
   "cell_type": "code",
   "execution_count": 8,
   "id": "f759503c",
   "metadata": {},
   "outputs": [
    {
     "data": {
      "text/html": [
       "<div>\n",
       "<style scoped>\n",
       "    .dataframe tbody tr th:only-of-type {\n",
       "        vertical-align: middle;\n",
       "    }\n",
       "\n",
       "    .dataframe tbody tr th {\n",
       "        vertical-align: top;\n",
       "    }\n",
       "\n",
       "    .dataframe thead th {\n",
       "        text-align: right;\n",
       "    }\n",
       "</style>\n",
       "<table border=\"1\" class=\"dataframe\">\n",
       "  <thead>\n",
       "    <tr style=\"text-align: right;\">\n",
       "      <th></th>\n",
       "      <th>fruit</th>\n",
       "      <th>average</th>\n",
       "    </tr>\n",
       "  </thead>\n",
       "  <tbody>\n",
       "    <tr>\n",
       "      <th>0</th>\n",
       "      <td>pear</td>\n",
       "      <td>1.418182</td>\n",
       "    </tr>\n",
       "    <tr>\n",
       "      <th>1</th>\n",
       "      <td>carrot</td>\n",
       "      <td>1.927273</td>\n",
       "    </tr>\n",
       "    <tr>\n",
       "      <th>2</th>\n",
       "      <td>grape</td>\n",
       "      <td>2.272727</td>\n",
       "    </tr>\n",
       "    <tr>\n",
       "      <th>3</th>\n",
       "      <td>berry</td>\n",
       "      <td>1.254545</td>\n",
       "    </tr>\n",
       "    <tr>\n",
       "      <th>4</th>\n",
       "      <td>apple</td>\n",
       "      <td>1.272727</td>\n",
       "    </tr>\n",
       "  </tbody>\n",
       "</table>\n",
       "</div>"
      ],
      "text/plain": [
       "    fruit   average\n",
       "0    pear  1.418182\n",
       "1  carrot  1.927273\n",
       "2   grape  2.272727\n",
       "3   berry  1.254545\n",
       "4   apple  1.272727"
      ]
     },
     "execution_count": 8,
     "metadata": {},
     "output_type": "execute_result"
    }
   ],
   "source": [
    "#I also want to get the mean value of each gummy per pack\n",
    "df_mean = df[fruit_lst].mean().reset_index(name='Mean')\n",
    "df_mean.columns = ['fruit','average']\n",
    "df_mean"
   ]
  },
  {
   "cell_type": "code",
   "execution_count": 9,
   "id": "b3f4bc94",
   "metadata": {},
   "outputs": [
    {
     "data": {
      "image/png": "[encoded data removed]",
      "text/plain": [
       "<Figure size 576x576 with 6 Axes>"
      ]
     },
     "metadata": {},
     "output_type": "display_data"
    }
   ],
   "source": [
    "#Now lets see what it looks like\n",
    "fig, axes = plt.subplots(3,2,figsize=(8,8))\n",
    "fig.suptitle('Fruit Gummy Percent Distribution')\n",
    "sns.barplot(x=val_counts.index,y=val_counts.pear,ax=axes[0,0]);\n",
    "axes[0,0].set_title('Pear')\n",
    "axes[0,0].set_ylabel('')\n",
    "sns.barplot(x=val_counts.index,y=val_counts.carrot,ax=axes[0,1]);\n",
    "axes[0,1].set_title('Carrot')\n",
    "axes[0,1].set_ylabel('')\n",
    "sns.barplot(x=val_counts.index,y=val_counts.grape,ax=axes[1,0]);\n",
    "axes[1,0].set_title('Grape')\n",
    "axes[1,0].set_ylabel('')\n",
    "sns.barplot(x=val_counts.index,y=val_counts.berry,ax=axes[1,1]);\n",
    "axes[1,1].set_title('Berry')\n",
    "axes[1,1].set_ylabel('')\n",
    "sns.barplot(x=val_counts.index,y=val_counts.apple,ax=axes[2,0]);\n",
    "axes[2,0].set_title('Apple')\n",
    "axes[2,0].set_ylabel('')\n",
    "sns.barplot(x=df_mean.fruit,y=df_mean.average,ax=axes[2,1]);\n",
    "axes[2,1].set_title('Fruit Average per Pack')\n",
    "axes[2,1].set_ylabel('')\n",
    "axes[2,1].set_xlabel('')\n",
    "fig.tight_layout()"
   ]
  },
  {
   "cell_type": "code",
   "execution_count": null,
   "id": "489accc6",
   "metadata": {},
   "outputs": [],
   "source": [
    "#So, what does this all mean\n",
    "#The first 5 graphs are for each individual fruit and the mean number they appear per pack, normalized\n",
    "#If you expected the gummies to appear equally, you'd expect the distribution curves to be fairly equal\n",
    "#This is obviously not the case\n",
    "#Finally, the last graph confirms my suspicions. Berry is the least represented gummy of the 5\n",
    "#Carrot is not the most common, but it is second. \n",
    "#After seeing this I do remember getting a lot of grapes. But i don't mind the grapes so it was ok."
   ]
  },
  {
   "cell_type": "markdown",
   "id": "0ba93d03",
   "metadata": {},
   "source": [
    "### Question 4: If 2 packs are choosen, how often is it that I will get at least 2 of every gummy type"
   ]
  },
  {
   "cell_type": "code",
   "execution_count": null,
   "id": "c9858065",
   "metadata": {},
   "outputs": [],
   "source": [
    "#I thought this problem would be rather difficult to answer and took quite a bit of googling\n",
    "#I eventually stumbled upon a stackoverflow page I could modify to my needs.\n",
    "#https://stackoverflow.com/questions/47239332/take-the-sum-of-every-n-rows-in-a-pandas-series"
   ]
  },
  {
   "cell_type": "code",
   "execution_count": 10,
   "id": "af4945a1",
   "metadata": {},
   "outputs": [
    {
     "data": {
      "text/plain": [
       "No     15\n",
       "Yes    11\n",
       "Name: test, dtype: int64"
      ]
     },
     "execution_count": 10,
     "metadata": {},
     "output_type": "execute_result"
    }
   ],
   "source": [
    "#First I want to get ride of all the third packs as that goes against the spirit of the question\n",
    "inter_df = df[df['3rd pack'] != True]\n",
    "#Reseting the index since some are now missing\n",
    "eat_df = inter_df[fruit_lst].reset_index(drop=True)\n",
    "#This is the secret sauce to sum up every 2 rows. It's actually pretty elegant. \n",
    "gf = eat_df.groupby(eat_df.index // 2).sum()\n",
    "#Create a column that is the logical test if I have at least 2 of every fruit\n",
    "gf['test'] = np.where(((gf.pear>=2)&(gf.carrot>=2)&(gf.grape>=2)&(gf.berry>=2)&(gf.apple>=2)), 'Yes', 'No')\n",
    "#Finally, a value_counts() to see how often I was able to do this\n",
    "follow_up = gf.test.value_counts()\n",
    "follow_up"
   ]
  },
  {
   "cell_type": "code",
   "execution_count": null,
   "id": "6a26208d",
   "metadata": {},
   "outputs": [],
   "source": [
    "#That is a fairly even split but I'm left dissapointed more often than not. "
   ]
  }
 ],
 "metadata": {
  "kernelspec": {
   "display_name": "Python 3",
   "language": "python",
   "name": "python3"
  },
  "language_info": {
   "codemirror_mode": {
    "name": "ipython",
    "version": 3
   },
   "file_extension": ".py",
   "mimetype": "text/x-python",
   "name": "python",
   "nbconvert_exporter": "python",
   "pygments_lexer": "ipython3",
   "version": "3.8.8"
  }
 },
 "nbformat": 4,
 "nbformat_minor": 5
}
