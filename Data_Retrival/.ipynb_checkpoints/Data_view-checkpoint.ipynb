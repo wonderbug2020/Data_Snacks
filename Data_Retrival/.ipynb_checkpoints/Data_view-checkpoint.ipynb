{
 "cells": [
  {
   "cell_type": "code",
   "execution_count": 11,
   "id": "0c2a5cbb",
   "metadata": {},
   "outputs": [],
   "source": [
    "import pandas as pd\n",
    "import matplotlib.pyplot as plt\n",
    "import seaborn as sns"
   ]
  },
  {
   "cell_type": "code",
   "execution_count": 2,
   "id": "ee238c80",
   "metadata": {},
   "outputs": [],
   "source": [
    "import_df = pd.read_csv('data/gummy_data.csv')"
   ]
  },
  {
   "cell_type": "code",
   "execution_count": 3,
   "id": "7deab3f0",
   "metadata": {},
   "outputs": [
    {
     "data": {
      "text/plain": [
       "(71, 9)"
      ]
     },
     "execution_count": 3,
     "metadata": {},
     "output_type": "execute_result"
    }
   ],
   "source": [
    "import_df.shape"
   ]
  },
  {
   "cell_type": "code",
   "execution_count": 4,
   "id": "0d61bed1",
   "metadata": {},
   "outputs": [
    {
     "data": {
      "text/html": [
       "<div>\n",
       "<style scoped>\n",
       "    .dataframe tbody tr th:only-of-type {\n",
       "        vertical-align: middle;\n",
       "    }\n",
       "\n",
       "    .dataframe tbody tr th {\n",
       "        vertical-align: top;\n",
       "    }\n",
       "\n",
       "    .dataframe thead th {\n",
       "        text-align: right;\n",
       "    }\n",
       "</style>\n",
       "<table border=\"1\" class=\"dataframe\">\n",
       "  <thead>\n",
       "    <tr style=\"text-align: right;\">\n",
       "      <th></th>\n",
       "      <th>pack</th>\n",
       "      <th>pear</th>\n",
       "      <th>carrot</th>\n",
       "      <th>grape</th>\n",
       "      <th>berry</th>\n",
       "      <th>apple</th>\n",
       "      <th>sum</th>\n",
       "      <th>3rd pack</th>\n",
       "      <th>box</th>\n",
       "    </tr>\n",
       "  </thead>\n",
       "  <tbody>\n",
       "    <tr>\n",
       "      <th>4</th>\n",
       "      <td>5</td>\n",
       "      <td>2.0</td>\n",
       "      <td>3.0</td>\n",
       "      <td>4.0</td>\n",
       "      <td>0.0</td>\n",
       "      <td>0.0</td>\n",
       "      <td>9</td>\n",
       "      <td>NaN</td>\n",
       "      <td>2.0</td>\n",
       "    </tr>\n",
       "    <tr>\n",
       "      <th>54</th>\n",
       "      <td>55</td>\n",
       "      <td>2.0</td>\n",
       "      <td>0.0</td>\n",
       "      <td>4.0</td>\n",
       "      <td>2.0</td>\n",
       "      <td>0.0</td>\n",
       "      <td>8</td>\n",
       "      <td>NaN</td>\n",
       "      <td>6.0</td>\n",
       "    </tr>\n",
       "    <tr>\n",
       "      <th>16</th>\n",
       "      <td>17</td>\n",
       "      <td>0.0</td>\n",
       "      <td>3.0</td>\n",
       "      <td>2.0</td>\n",
       "      <td>2.0</td>\n",
       "      <td>1.0</td>\n",
       "      <td>8</td>\n",
       "      <td>NaN</td>\n",
       "      <td>3.0</td>\n",
       "    </tr>\n",
       "    <tr>\n",
       "      <th>23</th>\n",
       "      <td>24</td>\n",
       "      <td>1.0</td>\n",
       "      <td>4.0</td>\n",
       "      <td>1.0</td>\n",
       "      <td>1.0</td>\n",
       "      <td>1.0</td>\n",
       "      <td>8</td>\n",
       "      <td>NaN</td>\n",
       "      <td>3.0</td>\n",
       "    </tr>\n",
       "    <tr>\n",
       "      <th>28</th>\n",
       "      <td>29</td>\n",
       "      <td>1.0</td>\n",
       "      <td>2.0</td>\n",
       "      <td>3.0</td>\n",
       "      <td>1.0</td>\n",
       "      <td>1.0</td>\n",
       "      <td>8</td>\n",
       "      <td>NaN</td>\n",
       "      <td>4.0</td>\n",
       "    </tr>\n",
       "  </tbody>\n",
       "</table>\n",
       "</div>"
      ],
      "text/plain": [
       "    pack  pear  carrot  grape  berry  apple  sum 3rd pack  box\n",
       "4      5   2.0     3.0    4.0    0.0    0.0    9      NaN  2.0\n",
       "54    55   2.0     0.0    4.0    2.0    0.0    8      NaN  6.0\n",
       "16    17   0.0     3.0    2.0    2.0    1.0    8      NaN  3.0\n",
       "23    24   1.0     4.0    1.0    1.0    1.0    8      NaN  3.0\n",
       "28    29   1.0     2.0    3.0    1.0    1.0    8      NaN  4.0"
      ]
     },
     "execution_count": 4,
     "metadata": {},
     "output_type": "execute_result"
    }
   ],
   "source": [
    "import_df.sample(5)"
   ]
  },
  {
   "cell_type": "code",
   "execution_count": 5,
   "id": "b1b0bfe9",
   "metadata": {},
   "outputs": [],
   "source": [
    "df = import_df[import_df['sum'] != 0]"
   ]
  },
  {
   "cell_type": "code",
   "execution_count": 6,
   "id": "050043e3",
   "metadata": {},
   "outputs": [
    {
     "data": {
      "text/plain": [
       "(55, 9)"
      ]
     },
     "execution_count": 6,
     "metadata": {},
     "output_type": "execute_result"
    }
   ],
   "source": [
    "df.shape"
   ]
  },
  {
   "cell_type": "code",
   "execution_count": 7,
   "id": "1f85e57d",
   "metadata": {},
   "outputs": [
    {
     "name": "stdout",
     "output_type": "stream",
     "text": [
      "<class 'pandas.core.frame.DataFrame'>\n",
      "Int64Index: 55 entries, 0 to 54\n",
      "Data columns (total 9 columns):\n",
      " #   Column    Non-Null Count  Dtype  \n",
      "---  ------    --------------  -----  \n",
      " 0   pack      55 non-null     int64  \n",
      " 1   pear      55 non-null     float64\n",
      " 2   carrot    55 non-null     float64\n",
      " 3   grape     55 non-null     float64\n",
      " 4   berry     55 non-null     float64\n",
      " 5   apple     55 non-null     float64\n",
      " 6   sum       55 non-null     int64  \n",
      " 7   3rd pack  3 non-null      object \n",
      " 8   box       55 non-null     float64\n",
      "dtypes: float64(6), int64(2), object(1)\n",
      "memory usage: 4.3+ KB\n"
     ]
    }
   ],
   "source": [
    "df.info()"
   ]
  },
  {
   "cell_type": "code",
   "execution_count": 8,
   "id": "0a6a1179",
   "metadata": {},
   "outputs": [
    {
     "data": {
      "text/html": [
       "<div>\n",
       "<style scoped>\n",
       "    .dataframe tbody tr th:only-of-type {\n",
       "        vertical-align: middle;\n",
       "    }\n",
       "\n",
       "    .dataframe tbody tr th {\n",
       "        vertical-align: top;\n",
       "    }\n",
       "\n",
       "    .dataframe thead th {\n",
       "        text-align: right;\n",
       "    }\n",
       "</style>\n",
       "<table border=\"1\" class=\"dataframe\">\n",
       "  <thead>\n",
       "    <tr style=\"text-align: right;\">\n",
       "      <th></th>\n",
       "      <th>pack</th>\n",
       "      <th>pear</th>\n",
       "      <th>carrot</th>\n",
       "      <th>grape</th>\n",
       "      <th>berry</th>\n",
       "      <th>apple</th>\n",
       "      <th>sum</th>\n",
       "      <th>box</th>\n",
       "    </tr>\n",
       "  </thead>\n",
       "  <tbody>\n",
       "    <tr>\n",
       "      <th>count</th>\n",
       "      <td>55.00000</td>\n",
       "      <td>55.000000</td>\n",
       "      <td>55.000000</td>\n",
       "      <td>55.000000</td>\n",
       "      <td>55.000000</td>\n",
       "      <td>55.000000</td>\n",
       "      <td>55.000000</td>\n",
       "      <td>55.000000</td>\n",
       "    </tr>\n",
       "    <tr>\n",
       "      <th>mean</th>\n",
       "      <td>28.00000</td>\n",
       "      <td>1.418182</td>\n",
       "      <td>1.927273</td>\n",
       "      <td>2.272727</td>\n",
       "      <td>1.254545</td>\n",
       "      <td>1.272727</td>\n",
       "      <td>8.145455</td>\n",
       "      <td>3.800000</td>\n",
       "    </tr>\n",
       "    <tr>\n",
       "      <th>std</th>\n",
       "      <td>16.02082</td>\n",
       "      <td>1.100352</td>\n",
       "      <td>1.168325</td>\n",
       "      <td>1.433134</td>\n",
       "      <td>0.927326</td>\n",
       "      <td>1.079344</td>\n",
       "      <td>0.355808</td>\n",
       "      <td>1.544404</td>\n",
       "    </tr>\n",
       "    <tr>\n",
       "      <th>min</th>\n",
       "      <td>1.00000</td>\n",
       "      <td>0.000000</td>\n",
       "      <td>0.000000</td>\n",
       "      <td>0.000000</td>\n",
       "      <td>0.000000</td>\n",
       "      <td>0.000000</td>\n",
       "      <td>8.000000</td>\n",
       "      <td>1.000000</td>\n",
       "    </tr>\n",
       "    <tr>\n",
       "      <th>25%</th>\n",
       "      <td>14.50000</td>\n",
       "      <td>1.000000</td>\n",
       "      <td>1.000000</td>\n",
       "      <td>1.000000</td>\n",
       "      <td>1.000000</td>\n",
       "      <td>1.000000</td>\n",
       "      <td>8.000000</td>\n",
       "      <td>2.500000</td>\n",
       "    </tr>\n",
       "    <tr>\n",
       "      <th>50%</th>\n",
       "      <td>28.00000</td>\n",
       "      <td>1.000000</td>\n",
       "      <td>2.000000</td>\n",
       "      <td>2.000000</td>\n",
       "      <td>1.000000</td>\n",
       "      <td>1.000000</td>\n",
       "      <td>8.000000</td>\n",
       "      <td>4.000000</td>\n",
       "    </tr>\n",
       "    <tr>\n",
       "      <th>75%</th>\n",
       "      <td>41.50000</td>\n",
       "      <td>2.000000</td>\n",
       "      <td>3.000000</td>\n",
       "      <td>3.000000</td>\n",
       "      <td>2.000000</td>\n",
       "      <td>2.000000</td>\n",
       "      <td>8.000000</td>\n",
       "      <td>5.000000</td>\n",
       "    </tr>\n",
       "    <tr>\n",
       "      <th>max</th>\n",
       "      <td>55.00000</td>\n",
       "      <td>5.000000</td>\n",
       "      <td>4.000000</td>\n",
       "      <td>6.000000</td>\n",
       "      <td>3.000000</td>\n",
       "      <td>4.000000</td>\n",
       "      <td>9.000000</td>\n",
       "      <td>6.000000</td>\n",
       "    </tr>\n",
       "  </tbody>\n",
       "</table>\n",
       "</div>"
      ],
      "text/plain": [
       "           pack       pear     carrot      grape      berry      apple  \\\n",
       "count  55.00000  55.000000  55.000000  55.000000  55.000000  55.000000   \n",
       "mean   28.00000   1.418182   1.927273   2.272727   1.254545   1.272727   \n",
       "std    16.02082   1.100352   1.168325   1.433134   0.927326   1.079344   \n",
       "min     1.00000   0.000000   0.000000   0.000000   0.000000   0.000000   \n",
       "25%    14.50000   1.000000   1.000000   1.000000   1.000000   1.000000   \n",
       "50%    28.00000   1.000000   2.000000   2.000000   1.000000   1.000000   \n",
       "75%    41.50000   2.000000   3.000000   3.000000   2.000000   2.000000   \n",
       "max    55.00000   5.000000   4.000000   6.000000   3.000000   4.000000   \n",
       "\n",
       "             sum        box  \n",
       "count  55.000000  55.000000  \n",
       "mean    8.145455   3.800000  \n",
       "std     0.355808   1.544404  \n",
       "min     8.000000   1.000000  \n",
       "25%     8.000000   2.500000  \n",
       "50%     8.000000   4.000000  \n",
       "75%     8.000000   5.000000  \n",
       "max     9.000000   6.000000  "
      ]
     },
     "execution_count": 8,
     "metadata": {},
     "output_type": "execute_result"
    }
   ],
   "source": [
    "df.describe()"
   ]
  },
  {
   "cell_type": "code",
   "execution_count": 26,
   "id": "4cc0bb8f",
   "metadata": {},
   "outputs": [
    {
     "data": {
      "text/plain": [
       "8    0.854545\n",
       "9    0.145455\n",
       "Name: sum, dtype: float64"
      ]
     },
     "execution_count": 26,
     "metadata": {},
     "output_type": "execute_result"
    }
   ],
   "source": [
    "gummies_per_pack = df['sum'].value_counts(normalize=True)\n",
    "gummies_per_pack"
   ]
  },
  {
   "cell_type": "code",
   "execution_count": 25,
   "id": "d576bf65",
   "metadata": {},
   "outputs": [
    {
     "data": {
      "image/png": "[encoded data removed]",
      "text/plain": [
       "<Figure size 576x576 with 1 Axes>"
      ]
     },
     "metadata": {
      "needs_background": "light"
     },
     "output_type": "display_data"
    }
   ],
   "source": [
    "plt.figure(figsize=(8,8))\n",
    "sns.barplot(x=gummies_per_pack.index,y=gummies_per_pack.values);"
   ]
  },
  {
   "cell_type": "code",
   "execution_count": null,
   "id": "6226e5d2",
   "metadata": {},
   "outputs": [],
   "source": []
  }
 ],
 "metadata": {
  "kernelspec": {
   "display_name": "Python 3",
   "language": "python",
   "name": "python3"
  },
  "language_info": {
   "codemirror_mode": {
    "name": "ipython",
    "version": 3
   },
   "file_extension": ".py",
   "mimetype": "text/x-python",
   "name": "python",
   "nbconvert_exporter": "python",
   "pygments_lexer": "ipython3",
   "version": "3.8.8"
  }
 },
 "nbformat": 4,
 "nbformat_minor": 5
}
